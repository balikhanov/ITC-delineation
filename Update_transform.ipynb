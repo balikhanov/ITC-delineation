{
 "cells": [
  {
   "cell_type": "code",
   "execution_count": 1,
   "metadata": {},
   "outputs": [],
   "source": [
    "import os\n",
    "import numpy as np\n",
    "import matplotlib.pyplot as plt\n",
    "from scipy import ndimage as ndi\n",
    "import tifffile as tiff\n",
    "import rasterio\n",
    "from skimage.segmentation import watershed\n",
    "from skimage.segmentation import find_boundaries\n",
    "from skimage.morphology import binary_dilation, binary_erosion, remove_small_objects, remove_small_holes\n",
    "from skimage.filters import gaussian, threshold_otsu\n",
    "from skimage.feature import peak_local_max\n",
    "from skimage.exposure import equalize_adapthist\n",
    "import cv2 as cv"
   ]
  },
  {
   "cell_type": "code",
   "execution_count": 2,
   "metadata": {},
   "outputs": [],
   "source": [
    "INPUT_PATHS = ['/home/user/data/ilim_data/West 47 d1/resize_05m_West 47 d1/',\n",
    "               '/home/user/data/ilim_data/West 48 d1/resize_05m_West 48 d1/',\n",
    "               '/home/user/data/ilim_data/West 51 d1/resize_05m_West 51 d1/',\n",
    "               '/home/user/data/ilim_data/West 52 d1/resize_05m_West 52 d1/',\n",
    "               '/home/user/data/ilim_data/West 52 d2/resize_05m_West 52 d2/',\n",
    "               '/home/user/data/ilim_data/West 52 d3/resize_05m_West 52 d3/',\n",
    "               '/home/user/data/ilim_data/West 52 d4/resize_05m_West 52 d4/',\n",
    "               '/home/user/data/ilim_data/West 53 d1/resize_05m_West 53 d1/',\n",
    "               '/home/user/data/ilim_data/West 53 d2/resize_05m_West 53 d2/',\n",
    "               '/home/user/data/ilim_data/West 92 d1/resize_05m_West 92 d1/',\n",
    "               '/home/user/data/ilim_data/West 47 d1/resize_03m_West 47 d1/',\n",
    "               '/home/user/data/ilim_data/West 48 d1/resize_03m_West 48 d1/',\n",
    "               '/home/user/data/ilim_data/West 51 d1/resize_03m_West 51 d1/',\n",
    "               '/home/user/data/ilim_data/West 52 d1/resize_03m_West 52 d1/',\n",
    "               '/home/user/data/ilim_data/West 52 d2/resize_03m_West 52 d2/',\n",
    "               '/home/user/data/ilim_data/West 52 d3/resize_03m_West 52 d3/',\n",
    "               '/home/user/data/ilim_data/West 52 d4/resize_03m_West 52 d4/',\n",
    "               '/home/user/data/ilim_data/West 53 d1/resize_03m_West 53 d1/',\n",
    "               '/home/user/data/ilim_data/West 53 d2/resize_03m_West 53 d2/',\n",
    "               '/home/user/data/ilim_data/West 92 d1/resize_03m_West 92 d1/']"
   ]
  },
  {
   "cell_type": "code",
   "execution_count": 3,
   "metadata": {},
   "outputs": [
    {
     "name": "stderr",
     "output_type": "stream",
     "text": [
      "/opt/conda/lib/python3.6/site-packages/ipykernel_launcher.py:4: RasterioDeprecationWarning: Creation keywords stored on datasets by Rasterio versions < 1.0b1 will always be ignored in version 1.0. You may opt in to ignoring them now by setting RIO_IGNORE_CREATION_KWDS=TRUE in your environment.\n",
      "  after removing the cwd from sys.path.\n",
      "/opt/conda/lib/python3.6/site-packages/ipykernel_launcher.py:12: RasterioDeprecationWarning: Creation keywords stored on datasets by Rasterio versions < 1.0b1 will always be ignored in version 1.0. You may opt in to ignoring them now by setting RIO_IGNORE_CREATION_KWDS=TRUE in your environment.\n",
      "  if sys.path[0] == '':\n",
      "/opt/conda/lib/python3.6/site-packages/ipykernel_launcher.py:20: RasterioDeprecationWarning: Creation keywords stored on datasets by Rasterio versions < 1.0b1 will always be ignored in version 1.0. You may opt in to ignoring them now by setting RIO_IGNORE_CREATION_KWDS=TRUE in your environment.\n",
      "/opt/conda/lib/python3.6/site-packages/ipykernel_launcher.py:27: RasterioDeprecationWarning: Creation keywords stored on datasets by Rasterio versions < 1.0b1 will always be ignored in version 1.0. You may opt in to ignoring them now by setting RIO_IGNORE_CREATION_KWDS=TRUE in your environment.\n",
      "/opt/conda/lib/python3.6/site-packages/ipykernel_launcher.py:31: RasterioDeprecationWarning: Creation keywords stored on datasets by Rasterio versions < 1.0b1 will always be ignored in version 1.0. You may opt in to ignoring them now by setting RIO_IGNORE_CREATION_KWDS=TRUE in your environment.\n",
      "/opt/conda/lib/python3.6/site-packages/ipykernel_launcher.py:40: RasterioDeprecationWarning: Creation keywords stored on datasets by Rasterio versions < 1.0b1 will always be ignored in version 1.0. You may opt in to ignoring them now by setting RIO_IGNORE_CREATION_KWDS=TRUE in your environment.\n",
      "/opt/conda/lib/python3.6/site-packages/ipykernel_launcher.py:50: RasterioDeprecationWarning: Creation keywords stored on datasets by Rasterio versions < 1.0b1 will always be ignored in version 1.0. You may opt in to ignoring them now by setting RIO_IGNORE_CREATION_KWDS=TRUE in your environment.\n"
     ]
    },
    {
     "name": "stdout",
     "output_type": "stream",
     "text": [
      "finished\n"
     ]
    }
   ],
   "source": [
    "for INPUT_PATH in INPUT_PATHS:\n",
    "    with rasterio.open(INPUT_PATH + 'BLU_resize.tif') as src:\n",
    "        img = src.read()[0]\n",
    "        profile = src.profile\n",
    "    profile.update(nodata=None)\n",
    "\n",
    "    with rasterio.open(INPUT_PATH + 'BLU.tif', 'w', **profile) as dst:\n",
    "        dst.write(img, 1)\n",
    "\n",
    "    with rasterio.open(INPUT_PATH + 'RED_resize.tif') as src:\n",
    "        img = src.read()[0]\n",
    "        profile = src.profile\n",
    "    profile.update(nodata=None)\n",
    "\n",
    "    with rasterio.open(INPUT_PATH + 'RED.tif', 'w', **profile) as dst:\n",
    "        dst.write(img, 1)\n",
    "\n",
    "    with rasterio.open(INPUT_PATH + 'GRN_resize.tif') as src:\n",
    "        img = src.read()[0]\n",
    "        profile = src.profile\n",
    "    profile.update(nodata=None)\n",
    "\n",
    "    with rasterio.open(INPUT_PATH + 'GRN.tif', 'w', **profile) as dst:\n",
    "        dst.write(img, 1)\n",
    "\n",
    "    with rasterio.open(INPUT_PATH + 'BLU_resize.tif') as src:\n",
    "        profile_original = src.profile\n",
    "\n",
    "    with rasterio.open(INPUT_PATH + 'mask_bg_resize.tif') as src:\n",
    "        img = src.read()[0]\n",
    "        profile = src.profile\n",
    "    profile.update(transform = profile_original['transform'])\n",
    "\n",
    "    with rasterio.open(INPUT_PATH + 'bg.tif', 'w', **profile) as dst:\n",
    "        dst.write(img, 1)\n",
    "    ###########################\n",
    "\n",
    "    with rasterio.open(INPUT_PATH + 'mask_bounds_resize.tif') as src:\n",
    "        img = src.read()[0]\n",
    "        profile = src.profile\n",
    "    profile.update(transform = profile_original['transform'])\n",
    "\n",
    "    with rasterio.open(INPUT_PATH + 'bounds.tif', 'w', **profile) as dst:\n",
    "        dst.write(img, 1)\n",
    "\n",
    "    ###########################\n",
    "\n",
    "    with rasterio.open(INPUT_PATH + 'mask_trees_resize.tif') as src:\n",
    "        img = src.read()[0]\n",
    "        profile = src.profile\n",
    "    profile.update(transform = profile_original['transform'])\n",
    "\n",
    "    with rasterio.open(INPUT_PATH + 'trees.tif', 'w', **profile) as dst:\n",
    "        dst.write(img, 1)\n",
    "print('finished')"
   ]
  },
  {
   "cell_type": "code",
   "execution_count": 4,
   "metadata": {},
   "outputs": [],
   "source": [
    "import os\n",
    "for INPUT_PATH in INPUT_PATHS:\n",
    "    os.remove(INPUT_PATH + 'BLU_resize.tif')\n",
    "    os.remove(INPUT_PATH + 'RED_resize.tif')\n",
    "    os.remove(INPUT_PATH + 'GRN_resize.tif')\n",
    "    os.remove(INPUT_PATH + 'mask_bg_resize.tif')\n",
    "    os.remove(INPUT_PATH + 'mask_bounds_resize.tif')\n",
    "    os.remove(INPUT_PATH + 'mask_trees_resize.tif')"
   ]
  },
  {
   "cell_type": "code",
   "execution_count": null,
   "metadata": {},
   "outputs": [],
   "source": []
  }
 ],
 "metadata": {
  "kernelspec": {
   "display_name": "Python 3",
   "language": "python",
   "name": "python3"
  },
  "language_info": {
   "codemirror_mode": {
    "name": "ipython",
    "version": 3
   },
   "file_extension": ".py",
   "mimetype": "text/x-python",
   "name": "python",
   "nbconvert_exporter": "python",
   "pygments_lexer": "ipython3",
   "version": "3.6.8"
  }
 },
 "nbformat": 4,
 "nbformat_minor": 2
}
