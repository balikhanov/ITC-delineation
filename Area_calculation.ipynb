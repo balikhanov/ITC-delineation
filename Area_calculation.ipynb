{
 "cells": [
  {
   "cell_type": "code",
   "execution_count": 1,
   "metadata": {},
   "outputs": [],
   "source": [
    "from shapely.geometry import Polygon\n",
    "import numpy as np\n",
    "import matplotlib.pyplot as plt\n",
    "import rasterio\n",
    "import tifffile as tiff\n",
    "import cv2 as cv\n",
    "from aeronet.dataset import polygonize, rasterize, BandCollection, parse_directory, FeatureCollection\n",
    "import os\n",
    "from scipy import ndimage as ndi\n",
    "from skimage.segmentation import watershed, mark_boundaries, find_boundaries\n",
    "from skimage.morphology import binary_dilation\n",
    "from skimage.exposure import equalize_adapthist, equalize_hist\n",
    "from skimage.filters import gaussian, threshold_mean\n",
    "from skimage.feature import peak_local_max"
   ]
  },
  {
   "cell_type": "code",
   "execution_count": 2,
   "metadata": {},
   "outputs": [],
   "source": [
    "folders = ['West 47 d1',\n",
    "           'West 48 d1',\n",
    "           'West 51 d1',\n",
    "           'West 52 d1',\n",
    "           'West 52 d2',\n",
    "           'West 52 d3',\n",
    "           'West 52 d4',\n",
    "           'West 53 d1',\n",
    "           'West 53 d2',\n",
    "           'West 92 d1']"
   ]
  },
  {
   "cell_type": "markdown",
   "metadata": {},
   "source": [
    "## Orthophoto area calculation"
   ]
  },
  {
   "cell_type": "code",
   "execution_count": 3,
   "metadata": {},
   "outputs": [
    {
     "name": "stderr",
     "output_type": "stream",
     "text": [
      "/opt/conda/lib/python3.6/site-packages/ipykernel_launcher.py:10: RasterioDeprecationWarning: Creation keywords stored on datasets by Rasterio versions < 1.0b1 will always be ignored in version 1.0. You may opt in to ignoring them now by setting RIO_IGNORE_CREATION_KWDS=TRUE in your environment.\n",
      "  # Remove the CWD from sys.path while we load stuff.\n",
      "/opt/conda/lib/python3.6/site-packages/ipykernel_launcher.py:16: RasterioDeprecationWarning: Creation keywords stored on datasets by Rasterio versions < 1.0b1 will always be ignored in version 1.0. You may opt in to ignoring them now by setting RIO_IGNORE_CREATION_KWDS=TRUE in your environment.\n",
      "  app.launch_new_instance()\n"
     ]
    }
   ],
   "source": [
    "area = 0\n",
    "area1 = 0\n",
    "for folder_name in folders:\n",
    "    OUTPUT_PATH = '/home/user/data/ilim_ortho/' + folder_name + '/polygon/'\n",
    "    INPUT_PATH = '/home/user/data/ilim_ortho/' + folder_name + '/'\n",
    "    IMAGE = folder_name + '.tif'\n",
    "    IMAGE_DEM = folder_name + '_DEM.tif'\n",
    "    with rasterio.open(INPUT_PATH + IMAGE_DEM) as src:\n",
    "        img = src.read()[0]\n",
    "        profile = src.profile\n",
    "    px_size = profile['transform'][0]*profile['transform'][4]*-1\n",
    "    area += (img > -32767).sum() * px_size\n",
    "    \n",
    "    with rasterio.open(OUTPUT_PATH + IMAGE_DEM) as src:\n",
    "        img1 = src.read()[0]\n",
    "        profile1 = src.profile\n",
    "    px_size1 = profile1['transform'][0]*profile1['transform'][4]*-1\n",
    "    area1 += img1.shape[0]*img1.shape[1] * px_size1"
   ]
  },
  {
   "cell_type": "code",
   "execution_count": 4,
   "metadata": {},
   "outputs": [
    {
     "name": "stdout",
     "output_type": "stream",
     "text": [
      "1019.9493342120496 485.5683140287349\n"
     ]
    }
   ],
   "source": [
    "print(area/10000, area1/10000)"
   ]
  }
 ],
 "metadata": {
  "kernelspec": {
   "display_name": "Python 3",
   "language": "python",
   "name": "python3"
  },
  "language_info": {
   "codemirror_mode": {
    "name": "ipython",
    "version": 3
   },
   "file_extension": ".py",
   "mimetype": "text/x-python",
   "name": "python",
   "nbconvert_exporter": "python",
   "pygments_lexer": "ipython3",
   "version": "3.6.8"
  }
 },
 "nbformat": 4,
 "nbformat_minor": 4
}
