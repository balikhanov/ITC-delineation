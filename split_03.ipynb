{
 "cells": [
  {
   "cell_type": "code",
   "execution_count": 1,
   "metadata": {},
   "outputs": [],
   "source": [
    "import os\n",
    "import numpy as np\n",
    "import matplotlib.pyplot as plt\n",
    "from scipy import ndimage as ndi\n",
    "import tifffile as tiff\n",
    "import rasterio\n",
    "from skimage.segmentation import watershed\n",
    "from skimage.segmentation import find_boundaries\n",
    "from skimage.morphology import binary_dilation, binary_erosion, remove_small_objects, remove_small_holes\n",
    "from skimage.filters import gaussian, threshold_otsu\n",
    "from skimage.feature import peak_local_max\n",
    "from skimage.exposure import equalize_adapthist\n",
    "import cv2 as cv"
   ]
  },
  {
   "cell_type": "code",
   "execution_count": 2,
   "metadata": {},
   "outputs": [],
   "source": [
    "folder_names = ['resize_03m_West 47 d1',\n",
    "                'resize_03m_West 48 d1',\n",
    "                'resize_03m_West 51 d1',\n",
    "                'resize_03m_West 52 d1',\n",
    "                'resize_03m_West 52 d2',\n",
    "                'resize_03m_West 52 d3',\n",
    "                'resize_03m_West 52 d4',\n",
    "                'resize_03m_West 53 d1',\n",
    "                'resize_03m_West 53 d2',\n",
    "                'resize_03m_West 92 d1']\n",
    "\n",
    "img_names = ['bg.tif', 'bounds.tif', 'trees.tif', 'BLU.tif', 'GRN.tif', 'RED.tif']\n",
    "# folder_names = ['resize_05m_West 47 d1']\n",
    "# img_names = ['bg.tif']\n",
    "OUTPUT_PATH = '/home/bake/Documents/ilim_data/03/ilim_dataset_03/'"
   ]
  },
  {
   "cell_type": "code",
   "execution_count": 3,
   "metadata": {},
   "outputs": [
    {
     "data": {
      "text/plain": [
       "'/home/bake/Documents/ilim_data'"
      ]
     },
     "execution_count": 3,
     "metadata": {},
     "output_type": "execute_result"
    }
   ],
   "source": [
    "pwd"
   ]
  },
  {
   "cell_type": "code",
   "execution_count": 4,
   "metadata": {},
   "outputs": [],
   "source": [
    "counter = 0\n",
    "for f in folder_names:\n",
    "\n",
    "    folder_name = '/home/bake/Documents/ilim_data/03/'+f+'/'\n",
    "    \n",
    "    for img_name in img_names:\n",
    "        with rasterio.open(folder_name + img_name) as src:\n",
    "            img = src.read()[0]\n",
    "            profile = src.profile\n",
    "        counter_2 = counter\n",
    "        x_size = np.int(img.shape[0]/3)\n",
    "        for i in range(3):\n",
    "            if i==0:\n",
    "                img_new = img[i*x_size:(i+1)*x_size, :]\n",
    "                profile.update(height=img_new.shape[0])\n",
    "                if not os.path.isdir(OUTPUT_PATH+str(counter_2)):\n",
    "                    os.makedirs(OUTPUT_PATH+str(counter_2))\n",
    "                with rasterio.open(OUTPUT_PATH+str(counter_2)+'/'+img_name, 'w', **profile) as dst:\n",
    "                    dst.write(img_new, 1)\n",
    "            elif i==1:\n",
    "                img_new = img[i*x_size:(i+1)*x_size, :]\n",
    "                \n",
    "                counter_2+=1\n",
    "                profile.update(height=img_new.shape[0])\n",
    "                profile.update(transform=rasterio.Affine(profile['transform'][0], \n",
    "                                                         0.0, \n",
    "                                                         profile['transform'][2], \n",
    "                                                         0.0, \n",
    "                                                         profile['transform'][4], \n",
    "                                                         profile['transform'][5] + x_size*profile['transform'][4]))\n",
    "                if not os.path.isdir(OUTPUT_PATH+str(counter_2)):\n",
    "                    os.makedirs(OUTPUT_PATH+str(counter_2))\n",
    "                with rasterio.open(OUTPUT_PATH+str(counter_2)+'/'+img_name, 'w', **profile) as dst:\n",
    "                    dst.write(img_new, 1)\n",
    "            else:\n",
    "                img_new = img[i*x_size:, :]\n",
    "                \n",
    "                counter_2+=1\n",
    "                profile.update(height=img_new.shape[0])\n",
    "                profile.update(transform=rasterio.Affine(profile['transform'][0], \n",
    "                                                         0.0, \n",
    "                                                         profile['transform'][2], \n",
    "                                                         0.0, \n",
    "                                                         profile['transform'][4], \n",
    "                                                         profile['transform'][5] + x_size*profile['transform'][4]))         \n",
    "                if not os.path.isdir(OUTPUT_PATH+str(counter_2)):\n",
    "                    os.makedirs(OUTPUT_PATH+str(counter_2))\n",
    "                with rasterio.open(OUTPUT_PATH+str(counter_2)+'/'+img_name, 'w', **profile) as dst:\n",
    "                    dst.write(img_new, 1)\n",
    "    counter+=3"
   ]
  },
  {
   "cell_type": "code",
   "execution_count": null,
   "metadata": {},
   "outputs": [],
   "source": []
  }
 ],
 "metadata": {
  "kernelspec": {
   "display_name": "Python 3",
   "language": "python",
   "name": "python3"
  },
  "language_info": {
   "codemirror_mode": {
    "name": "ipython",
    "version": 3
   },
   "file_extension": ".py",
   "mimetype": "text/x-python",
   "name": "python",
   "nbconvert_exporter": "python",
   "pygments_lexer": "ipython3",
   "version": "3.7.3"
  }
 },
 "nbformat": 4,
 "nbformat_minor": 2
}
