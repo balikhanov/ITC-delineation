{
 "cells": [
  {
   "cell_type": "code",
   "execution_count": 1,
   "metadata": {},
   "outputs": [],
   "source": [
    "from shapely.geometry import Polygon\n",
    "import numpy as np\n",
    "import matplotlib.pyplot as plt\n",
    "import rasterio\n",
    "import tifffile as tiff\n",
    "import cv2 as cv\n",
    "from aeronet.dataset import polygonize, rasterize, BandCollection, parse_directory, FeatureCollection\n",
    "import os\n",
    "from scipy import ndimage as ndi\n",
    "from skimage.segmentation import watershed, mark_boundaries, find_boundaries\n",
    "from skimage.morphology import binary_dilation\n",
    "from skimage.exposure import equalize_adapthist, equalize_hist\n",
    "from skimage.filters import gaussian, threshold_mean\n",
    "from skimage.feature import peak_local_max"
   ]
  },
  {
   "cell_type": "code",
   "execution_count": 2,
   "metadata": {},
   "outputs": [],
   "source": [
    "# OUTPUT_PATH = '/home/user/data/ilim_ortho/West 48 d1/polygon/'\n",
    "# OUTPUT_PATH_RESIZE_05 = '/home/user/data/ilim_ortho/West 48 d1/resize_05m_48d1/'\n",
    "# OUTPUT_PATH_RESIZE_03 = '/home/user/data/ilim_ortho/West 48 d1/resize_03m_48d1/'\n",
    "# INPUT_PATH = '/home/user/data/ilim_ortho/West 48 d1/'\n",
    "# IMAGE = 'West 48 d1.tif'\n",
    "# IMAGE_DEM = 'West 48 d1_DEM.tif'\n",
    "# GEOJSON = 'West48_polygon.geojson'"
   ]
  },
  {
   "cell_type": "code",
   "execution_count": 3,
   "metadata": {},
   "outputs": [],
   "source": [
    "folder_name = '27667'"
   ]
  },
  {
   "cell_type": "code",
   "execution_count": 4,
   "metadata": {},
   "outputs": [],
   "source": [
    "OUTPUT_PATH = '/home/user/data/provider_drone/' + folder_name + '/polygon/'\n",
    "OUTPUT_PATH_RESIZE_05 = '/home/user/data/provider_drone/' + folder_name + '/resize_05m_' + folder_name + '/'\n",
    "OUTPUT_PATH_RESIZE_03 = '/home/user/data/provider_drone/' + folder_name + '/resize_03m_' + folder_name + '/'\n",
    "INPUT_PATH = '/home/user/data/provider_drone/' + folder_name + '/'\n",
    "IMAGE = folder_name + '.tif'\n",
    "IMAGE_DEM = folder_name + '_DEM.tif'\n",
    "GEOJSON = folder_name + '_polygon.geojson'\n",
    "\n",
    "if not os.path.isdir(OUTPUT_PATH_RESIZE_03):\n",
    "    os.makedirs(OUTPUT_PATH_RESIZE_03)\n",
    "if not os.path.isdir(OUTPUT_PATH_RESIZE_05):\n",
    "    os.makedirs(OUTPUT_PATH_RESIZE_05)"
   ]
  },
  {
   "cell_type": "markdown",
   "metadata": {},
   "source": [
    "## Split RGB image into channels, cut the polygon"
   ]
  },
  {
   "cell_type": "code",
   "execution_count": 5,
   "metadata": {},
   "outputs": [],
   "source": [
    "# Обрезка растрового файла\n",
    "def pix_from_coords(x, y, transform, size):\n",
    "    return int(round((x - transform[2])/transform[0])),  int(round((y - transform[5])/transform[4] ))\n",
    "\n",
    "def calc_raster_boundaries(xmin, xmax, ymin, ymax, transform, size):\n",
    "    x1, y1 = pix_from_coords(xmin, ymax, transform, size)\n",
    "    x2, y2 = pix_from_coords(xmax, ymin, transform, size)\n",
    "    \n",
    "    x1 = min(max(0, x1), size[1])\n",
    "    y1 = min(max(0, y1), size[0])\n",
    "    x2 = min(max(0, x2), size[1])\n",
    "    y2 = min(max(0, y2), size[0])\n",
    "    \n",
    "    if y1 == y2 or x1 == x2:\n",
    "        return 0,0,0,0\n",
    "    return x1, y1, x2-x1, y2-y1\n",
    "\n",
    "def subsample(INPUT_PATH, OUTPUT_PATH, IMAGE_DEM, feat:Polygon):\n",
    "    bc = BandCollection(parse_directory(INPUT_PATH, [IMAGE_DEM]))\n",
    "    xmin, ymin, xmax, ymax = feat.shape.bounds\n",
    "    print(xmin, ymin, xmax, ymax)\n",
    "    x1, y1, width, height = calc_raster_boundaries(xmin, xmax, ymin, ymax, bc[0].transform, bc[0].shape)\n",
    "    print(width, height)\n",
    "    sample = bc.sample(x=x1, y=y1, width=width, height=height)\n",
    "    sample.save(OUTPUT_PATH)\n",
    "    del bc"
   ]
  },
  {
   "cell_type": "code",
   "execution_count": 6,
   "metadata": {},
   "outputs": [
    {
     "name": "stderr",
     "output_type": "stream",
     "text": [
      "/opt/conda/lib/python3.6/site-packages/ipykernel_launcher.py:3: RasterioDeprecationWarning: Creation keywords stored on datasets by Rasterio versions < 1.0b1 will always be ignored in version 1.0. You may opt in to ignoring them now by setting RIO_IGNORE_CREATION_KWDS=TRUE in your environment.\n",
      "  This is separate from the ipykernel package so we can avoid doing imports until\n"
     ]
    }
   ],
   "source": [
    "with rasterio.open(INPUT_PATH + IMAGE) as src:\n",
    "    img = src.read().transpose(1, 2, 0)\n",
    "    profile = src.profile\n",
    "profile.update(count=1)\n",
    "\n",
    "with rasterio.open(INPUT_PATH + 'RED.tif', 'w', **profile) as dst:\n",
    "    dst.write(img[:,:,0], 1)\n",
    "\n",
    "with rasterio.open(INPUT_PATH + 'GRN.tif', 'w', **profile) as dst:\n",
    "    dst.write(img[:,:,1], 1)\n",
    "\n",
    "with rasterio.open(INPUT_PATH + 'BLU.tif', 'w', **profile) as dst:\n",
    "    dst.write(img[:,:,2], 1)"
   ]
  },
  {
   "cell_type": "code",
   "execution_count": 7,
   "metadata": {},
   "outputs": [
    {
     "name": "stdout",
     "output_type": "stream",
     "text": [
      "313037.0867231503 6449308.249773085 313655.60598492646 6449926.769034862\n",
      "20449 20447\n",
      "313037.0867231503 6449308.249773085 313655.60598492646 6449926.769034862\n",
      "20449 20447\n",
      "313037.0867231503 6449308.249773085 313655.60598492646 6449926.769034862\n",
      "20449 20447\n"
     ]
    }
   ],
   "source": [
    "subsample(INPUT_PATH, OUTPUT_PATH, 'RED', FeatureCollection.read(INPUT_PATH + GEOJSON)[0])\n",
    "subsample(INPUT_PATH, OUTPUT_PATH, 'GRN', FeatureCollection.read(INPUT_PATH + GEOJSON)[0])\n",
    "subsample(INPUT_PATH, OUTPUT_PATH, 'BLU', FeatureCollection.read(INPUT_PATH + GEOJSON)[0])"
   ]
  },
  {
   "cell_type": "markdown",
   "metadata": {},
   "source": [
    "## Cut the DEM data"
   ]
  },
  {
   "cell_type": "code",
   "execution_count": 8,
   "metadata": {},
   "outputs": [
    {
     "name": "stderr",
     "output_type": "stream",
     "text": [
      "/opt/conda/lib/python3.6/site-packages/ipykernel_launcher.py:3: RasterioDeprecationWarning: Creation keywords stored on datasets by Rasterio versions < 1.0b1 will always be ignored in version 1.0. You may opt in to ignoring them now by setting RIO_IGNORE_CREATION_KWDS=TRUE in your environment.\n",
      "  This is separate from the ipykernel package so we can avoid doing imports until\n"
     ]
    }
   ],
   "source": [
    "with rasterio.open(INPUT_PATH + IMAGE_DEM) as src_DEM:\n",
    "    img_DEM = src_DEM.read().transpose(1, 2, 0)\n",
    "    profile_DEM = src_DEM.profile"
   ]
  },
  {
   "cell_type": "code",
   "execution_count": 9,
   "metadata": {},
   "outputs": [
    {
     "data": {
      "text/plain": [
       "(10135, 8727, 1)"
      ]
     },
     "execution_count": 9,
     "metadata": {},
     "output_type": "execute_result"
    }
   ],
   "source": [
    "img_DEM.shape"
   ]
  },
  {
   "cell_type": "code",
   "execution_count": 10,
   "metadata": {},
   "outputs": [
    {
     "name": "stdout",
     "output_type": "stream",
     "text": [
      "313037.0867231503 6449308.249773085 313655.60598492646 6449926.769034862\n",
      "5111 5112\n"
     ]
    }
   ],
   "source": [
    "subsample(INPUT_PATH, OUTPUT_PATH, IMAGE_DEM.split(sep='.')[0], FeatureCollection.read(INPUT_PATH + GEOJSON)[0])"
   ]
  },
  {
   "cell_type": "markdown",
   "metadata": {},
   "source": [
    "## Resample to the spatial resolution of 50 cm, save as BandCollection (separate image files for each channel and mask) plus geojsons."
   ]
  },
  {
   "cell_type": "code",
   "execution_count": 11,
   "metadata": {},
   "outputs": [],
   "source": [
    "def image_resize(input_path, img_name, px_size = 0.5):\n",
    "    with rasterio.open(input_path + img_name + '.tif') as src:\n",
    "        img = src.read()[0]\n",
    "        profile = src.profile\n",
    "        \n",
    "    img_resize = cv.resize(img, None, fx=(profile['transform'][0]/px_size), fy=(-profile['transform'][4]/px_size), interpolation=cv.INTER_NEAREST)\n",
    "    \n",
    "    profile.update(transform=rasterio.Affine(px_size, 0.0, profile['transform'][2], 0.0, -px_size, profile['transform'][5]), \n",
    "               width = img_resize.shape[1], height = img_resize.shape[0])\n",
    "        \n",
    "    return img_resize, profile\n",
    "\n",
    "def image_save(output_path, img, img_name, profile):\n",
    "    with rasterio.open(output_path + img_name + '.tif', 'w', **profile) as dst:\n",
    "        dst.write(img, 1)"
   ]
  },
  {
   "cell_type": "code",
   "execution_count": 12,
   "metadata": {},
   "outputs": [
    {
     "name": "stderr",
     "output_type": "stream",
     "text": [
      "/opt/conda/lib/python3.6/site-packages/ipykernel_launcher.py:4: RasterioDeprecationWarning: Creation keywords stored on datasets by Rasterio versions < 1.0b1 will always be ignored in version 1.0. You may opt in to ignoring them now by setting RIO_IGNORE_CREATION_KWDS=TRUE in your environment.\n",
      "  after removing the cwd from sys.path.\n"
     ]
    }
   ],
   "source": [
    "RED_resize, profile_resize = image_resize(OUTPUT_PATH, 'RED', 0.5)\n",
    "GRN_resize, _ = image_resize(OUTPUT_PATH, 'GRN', 0.5)\n",
    "BLU_resize, _ = image_resize(OUTPUT_PATH, 'BLU', 0.5)\n",
    "\n",
    "image_save(OUTPUT_PATH_RESIZE_05, RED_resize, 'RED_resize', profile_resize)\n",
    "image_save(OUTPUT_PATH_RESIZE_05, GRN_resize, 'GRN_resize', profile_resize)\n",
    "image_save(OUTPUT_PATH_RESIZE_05, BLU_resize, 'BLU_resize', profile_resize)"
   ]
  },
  {
   "cell_type": "code",
   "execution_count": 13,
   "metadata": {},
   "outputs": [
    {
     "name": "stderr",
     "output_type": "stream",
     "text": [
      "/opt/conda/lib/python3.6/site-packages/ipykernel_launcher.py:4: RasterioDeprecationWarning: Creation keywords stored on datasets by Rasterio versions < 1.0b1 will always be ignored in version 1.0. You may opt in to ignoring them now by setting RIO_IGNORE_CREATION_KWDS=TRUE in your environment.\n",
      "  after removing the cwd from sys.path.\n"
     ]
    }
   ],
   "source": [
    "RED_resize, profile_resize = image_resize(OUTPUT_PATH, 'RED', 0.31)\n",
    "GRN_resize, _ = image_resize(OUTPUT_PATH, 'GRN', 0.31)\n",
    "BLU_resize, _ = image_resize(OUTPUT_PATH, 'BLU', 0.31)\n",
    "\n",
    "image_save(OUTPUT_PATH_RESIZE_03, RED_resize, 'RED_resize', profile_resize)\n",
    "image_save(OUTPUT_PATH_RESIZE_03, GRN_resize, 'GRN_resize', profile_resize)\n",
    "image_save(OUTPUT_PATH_RESIZE_03, BLU_resize, 'BLU_resize', profile_resize)"
   ]
  }
 ],
 "metadata": {
  "kernelspec": {
   "display_name": "Python 3",
   "language": "python",
   "name": "python3"
  },
  "language_info": {
   "codemirror_mode": {
    "name": "ipython",
    "version": 3
   },
   "file_extension": ".py",
   "mimetype": "text/x-python",
   "name": "python",
   "nbconvert_exporter": "python",
   "pygments_lexer": "ipython3",
   "version": "3.6.8"
  }
 },
 "nbformat": 4,
 "nbformat_minor": 4
}
